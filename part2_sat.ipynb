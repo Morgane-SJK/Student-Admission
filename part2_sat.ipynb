{
 "cells": [
  {
   "cell_type": "markdown",
   "metadata": {},
   "source": [
    "## PARTIE 2 : SAT"
   ]
  },
  {
   "cell_type": "code",
   "execution_count": 1,
   "metadata": {},
   "outputs": [],
   "source": [
    "import numpy as np\n",
    "import random\n",
    "from itertools import combinations, chain\n",
    "import subprocess\n",
    "\n",
    "from generate_dataset import convert_dataset, generate_dataset"
   ]
  },
  {
   "cell_type": "markdown",
   "metadata": {},
   "source": [
    "## Création d'un dataset"
   ]
  },
  {
   "cell_type": "code",
   "execution_count": 2,
   "metadata": {},
   "outputs": [
    {
     "name": "stdout",
     "output_type": "stream",
     "text": [
      "\n",
      "Les coeffs sont =  [0.15 0.6  0.25]\n",
      "\n",
      "Les frontières sont =  [[ 3. 14.]\n",
      " [ 2. 14.]\n",
      " [ 7. 18.]]\n",
      "\n",
      "lambda =  0.5147881036111792\n",
      "\n",
      "Les notes des élèves :\n",
      "[[10 14 19]\n",
      " [ 5  6  5]\n",
      " [ 6  1 15]\n",
      " [ 9  6 10]\n",
      " [ 9 13  0]]\n",
      "\n",
      "Les classes des élèves :\n",
      "[2, 1, 0, 1, 1]\n"
     ]
    }
   ],
   "source": [
    "students_count = 5\n",
    "subjects_count = 3 #les différentes matières (critères)\n",
    "classes_count = 3 #Accepté ou refusé\n",
    "\n",
    "S, y = generate_dataset(students_count, subjects_count, classes_count)"
   ]
  },
  {
   "cell_type": "code",
   "execution_count": 3,
   "metadata": {},
   "outputs": [
    {
     "name": "stdout",
     "output_type": "stream",
     "text": [
      "[array([[ 6,  1, 15]]), array([[ 5,  6,  5],\n",
      "       [ 9,  6, 10],\n",
      "       [ 9, 13,  0]]), array([[10, 14, 19]])]\n"
     ]
    }
   ],
   "source": [
    "X = convert_dataset(S, y, classes_count)\n",
    "print(X)"
   ]
  },
  {
   "cell_type": "markdown",
   "metadata": {},
   "source": [
    "## Variables"
   ]
  },
  {
   "cell_type": "markdown",
   "metadata": {},
   "source": [
    "* ### x(i, h, k)\n",
    "\n",
    "On crée les variables binaires x(i, h, k) signifiant \"la note k pour le critère i correspond à la classe k\" (et qui valent donc 1 dans ce cas, 0 sinon)"
   ]
  },
  {
   "cell_type": "code",
   "execution_count": 4,
   "metadata": {},
   "outputs": [
    {
     "name": "stdout",
     "output_type": "stream",
     "text": [
      "[(0, 1, 10), (0, 2, 10), (1, 1, 14), (1, 2, 14), (2, 1, 19), (2, 2, 19), (0, 1, 5), (0, 2, 5), (1, 1, 6), (1, 2, 6), (2, 1, 5), (2, 2, 5), (0, 1, 6), (0, 2, 6), (1, 1, 1), (1, 2, 1), (2, 1, 15), (2, 2, 15), (0, 1, 9), (0, 2, 9), (1, 1, 6), (1, 2, 6), (2, 1, 10), (2, 2, 10), (0, 1, 9), (0, 2, 9), (1, 1, 13), (1, 2, 13), (2, 1, 0), (2, 2, 0)]\n"
     ]
    }
   ],
   "source": [
    "x=[]\n",
    "for student in range(students_count):\n",
    "    for subject in range (subjects_count):\n",
    "        for student_class in range(1, classes_count):\n",
    "            x.append((subject, student_class, S[student][subject]))\n",
    "            \n",
    "print(x)"
   ]
  },
  {
   "cell_type": "markdown",
   "metadata": {},
   "source": [
    "* ### y(B) \n",
    "On crée les variables binaires y(B) signifiant \"la  coalition B est suffisante\" (et qui valent 1 dans ce cas, 0 sinon)"
   ]
  },
  {
   "cell_type": "code",
   "execution_count": 5,
   "metadata": {},
   "outputs": [
    {
     "name": "stdout",
     "output_type": "stream",
     "text": [
      "[(), (0,), (1,), (2,), (0, 1), (0, 2), (1, 2), (0, 1, 2)]\n"
     ]
    }
   ],
   "source": [
    "#Ensemble des critères\n",
    "I = list(range(subjects_count))\n",
    "\n",
    "yB = []\n",
    "for n in range(0,len(I)+1):\n",
    "    yB.append([i for i in combinations(I,n)])\n",
    "\n",
    "yB=list(chain.from_iterable(yB))\n",
    "print(yB)"
   ]
  },
  {
   "cell_type": "markdown",
   "metadata": {},
   "source": [
    "### Traduction des variables en dictionnaires pour le solveur SAT"
   ]
  },
  {
   "cell_type": "code",
   "execution_count": 6,
   "metadata": {},
   "outputs": [
    {
     "name": "stdout",
     "output_type": "stream",
     "text": [
      "x to Integers\n",
      "{(1, 1, 13): 1, (2, 1, 0): 2, (2, 2, 5): 3, (0, 1, 6): 4, (0, 1, 9): 5, (2, 1, 15): 6, (1, 2, 14): 7, (0, 2, 10): 8, (1, 1, 6): 9, (0, 1, 5): 10, (2, 1, 5): 11, (2, 2, 10): 12, (2, 2, 19): 13, (1, 2, 1): 14, (1, 2, 13): 15, (0, 2, 6): 16, (0, 2, 9): 17, (1, 1, 14): 18, (2, 2, 0): 19, (0, 1, 10): 20, (2, 1, 10): 21, (1, 2, 6): 22, (2, 2, 15): 23, (2, 1, 19): 24, (0, 2, 5): 25, (1, 1, 1): 26}\n",
      "\n",
      "Integers to x\n"
     ]
    }
   ],
   "source": [
    "x2i = {v : i+1 for i,v in enumerate(set(x))} #numérotation qui commence à 1\n",
    "#i2x = {i : v for v,i in x2i.items()}\n",
    "\n",
    "print(\"x to Integers\")\n",
    "print(x2i)\n",
    "\n",
    "print(\"\\nIntegers to x\")\n",
    "#print(i2x)"
   ]
  },
  {
   "cell_type": "code",
   "execution_count": 7,
   "metadata": {},
   "outputs": [
    {
     "name": "stdout",
     "output_type": "stream",
     "text": [
      "yB to Integers\n",
      "{(): 27, (0,): 28, (1,): 29, (2,): 30, (0, 1): 31, (0, 2): 32, (1, 2): 33, (0, 1, 2): 34}\n",
      "\n",
      "Integers to yB\n"
     ]
    }
   ],
   "source": [
    "y2i = {v : i+len(x2i)+1 for i,v in enumerate(yB)} #numérotation qui commence à taille de x2i + 1\n",
    "#i2y = {i : v for v,i in y2i.items()}\n",
    "\n",
    "print(\"yB to Integers\")\n",
    "print(y2i)\n",
    "\n",
    "print(\"\\nIntegers to yB\")\n",
    "#print(i2y)"
   ]
  },
  {
   "cell_type": "code",
   "execution_count": 8,
   "metadata": {},
   "outputs": [
    {
     "name": "stdout",
     "output_type": "stream",
     "text": [
      "{(1, 1, 13): 1, (2, 1, 0): 2, (2, 2, 5): 3, (0, 1, 6): 4, (0, 1, 9): 5, (2, 1, 15): 6, (1, 2, 14): 7, (0, 2, 10): 8, (1, 1, 6): 9, (0, 1, 5): 10, (2, 1, 5): 11, (2, 2, 10): 12, (2, 2, 19): 13, (1, 2, 1): 14, (1, 2, 13): 15, (0, 2, 6): 16, (0, 2, 9): 17, (1, 1, 14): 18, (2, 2, 0): 19, (0, 1, 10): 20, (2, 1, 10): 21, (1, 2, 6): 22, (2, 2, 15): 23, (2, 1, 19): 24, (0, 2, 5): 25, (1, 1, 1): 26, (): 27, (0,): 28, (1,): 29, (2,): 30, (0, 1): 31, (0, 2): 32, (1, 2): 33, (0, 1, 2): 34}\n",
      "{1: (1, 1, 13), 2: (2, 1, 0), 3: (2, 2, 5), 4: (0, 1, 6), 5: (0, 1, 9), 6: (2, 1, 15), 7: (1, 2, 14), 8: (0, 2, 10), 9: (1, 1, 6), 10: (0, 1, 5), 11: (2, 1, 5), 12: (2, 2, 10), 13: (2, 2, 19), 14: (1, 2, 1), 15: (1, 2, 13), 16: (0, 2, 6), 17: (0, 2, 9), 18: (1, 1, 14), 19: (2, 2, 0), 20: (0, 1, 10), 21: (2, 1, 10), 22: (1, 2, 6), 23: (2, 2, 15), 24: (2, 1, 19), 25: (0, 2, 5), 26: (1, 1, 1), 27: (), 28: (0,), 29: (1,), 30: (2,), 31: (0, 1), 32: (0, 2), 33: (1, 2), 34: (0, 1, 2)}\n"
     ]
    }
   ],
   "source": [
    "#Fusion des 2 dictionnaires\n",
    "variables = {**x2i, **y2i}\n",
    "print(variables)\n",
    "i2variables = {i : v for v,i in variables.items()}\n",
    "print(i2variables)"
   ]
  },
  {
   "cell_type": "markdown",
   "metadata": {},
   "source": [
    "## Clauses"
   ]
  },
  {
   "cell_type": "markdown",
   "metadata": {},
   "source": [
    "* ### Clause 1 : \"échelle ascendente\"\n",
    "\n",
    "x(i,h,k') ∨ ¬x(i,h,k) (avec k<k')\n",
    "\n",
    "Pour 2 notes k et k' sur un critère i, soit on a k' qui n'appartient pas à la classe h, soit k' appartient à h et dans ce cas k appartient aussi au moins à la classe h."
   ]
  },
  {
   "cell_type": "code",
   "execution_count": 9,
   "metadata": {},
   "outputs": [
    {
     "name": "stdout",
     "output_type": "stream",
     "text": [
      "[[20, -10], [20, -4], [20, -5], [8, -25], [8, -16], [8, -17], [4, -10], [16, -25], [5, -10], [5, -4], [17, -25], [17, -16], [18, -9], [18, -26], [18, -1], [7, -22], [7, -14], [7, -15], [9, -26], [22, -14], [1, -9], [1, -26], [15, -22], [15, -14], [24, -11], [24, -6], [24, -21], [24, -2], [13, -3], [13, -23], [13, -12], [13, -19], [11, -2], [3, -19], [6, -11], [6, -21], [6, -2], [23, -3], [23, -12], [23, -19], [21, -11], [21, -2], [12, -3], [12, -19]]\n"
     ]
    }
   ],
   "source": [
    "def clause1(classes_count, S, x, x2i):\n",
    "    clauses_ascending_scales = []\n",
    "\n",
    "    #On parcourt les matières\n",
    "    for subject_index, subject in enumerate(S.T) : \n",
    "        #On parcourt les notes\n",
    "        for student in subject:\n",
    "            #On regarde les index des étudiants dont la note est inférieure\n",
    "            students_inf_index = np.argwhere(subject < student)\n",
    "            #Pour chaque classe\n",
    "            for student_class in range (1, classes_count):\n",
    "                variable_1 = x2i[(subject_index, student_class, student)]\n",
    "                #Pour chaque étudiant dont la note est inférieure à l'étudiant regardé\n",
    "                for index in students_inf_index:\n",
    "                    variable_2 = x2i[(subject_index, student_class, subject[index[0]])]\n",
    "\n",
    "                    if ([variable_1, -variable_2] not in clauses_ascending_scales):\n",
    "                        clauses_ascending_scales.append([variable_1, -variable_2])\n",
    "\n",
    "    return clauses_ascending_scales\n",
    "\n",
    "clauses_ascending_scales=clause1(classes_count, S, x, x2i)\n",
    "print(clauses_ascending_scales)"
   ]
  },
  {
   "cell_type": "markdown",
   "metadata": {},
   "source": [
    "* ### Clause 2 : \"hiérarchie des profils\"\n",
    "\n",
    "x(i,h,k) ∨ ¬x(i,h',k) (avec 1<=h<h'<p-1)\n",
    "\n",
    "Pour une note donnée k sur le critère i, soit la note appartient à la classe h, soit elle n'appartient pas à la classe h et dans ce cas elle n'appartient pas non plus à la classe du dessus.\n",
    "\n",
    "**Remarque :** Dans le cas où on a que 2 classes (Accepté et Refusé par exemple), cet ensemble de clauses est vide car on a juste h = 1"
   ]
  },
  {
   "cell_type": "code",
   "execution_count": 10,
   "metadata": {},
   "outputs": [
    {
     "name": "stdout",
     "output_type": "stream",
     "text": [
      "[[20, -8], [10, -25], [4, -16], [5, -17], [18, -7], [9, -22], [26, -14], [1, -15], [24, -13], [11, -3], [6, -23], [21, -12], [2, -19]]\n"
     ]
    }
   ],
   "source": [
    "def clause2(classes_count, S, x, x2i):\n",
    "    clauses_hierarchy_profiles = []\n",
    "\n",
    "    #On parcourt les classes\n",
    "    for student_class in range(1, classes_count):\n",
    "        #on regarde les classes qui sont inférieures :\n",
    "        classes_inf = list(range(1, student_class))\n",
    "\n",
    "        #on parcourt les matières:\n",
    "        for subject_index, subject in enumerate(S.T) :\n",
    "            #On parcourt les notes\n",
    "            for student in subject :\n",
    "                variable_1 = x2i[(subject_index, student_class, student)]\n",
    "                #on parcourt les classes qui sont inférieures\n",
    "                for classe_inf in classes_inf :\n",
    "                    variable_2 = x2i[(subject_index, classe_inf, student)]\n",
    "\n",
    "                    if ([variable_2, -variable_1] not in clauses_hierarchy_profiles):\n",
    "                        clauses_hierarchy_profiles.append([variable_2, -variable_1])\n",
    "\n",
    "    return(clauses_hierarchy_profiles)\n",
    "     \n",
    "clauses_hierarchy_profiles=clause2(classes_count, S, x, x2i)\n",
    "print(clauses_hierarchy_profiles)"
   ]
  },
  {
   "cell_type": "markdown",
   "metadata": {},
   "source": [
    "* ### Clause 3 : \"force de coalitions\"\n",
    "\n",
    "yB' ∨ ¬yB (avec B ⊂ B' ⊆ N )\n",
    "\n",
    "Soit la coalition B n'est pas suffisante, soit elle l'est et dans ce cas B' l'est aussi."
   ]
  },
  {
   "cell_type": "code",
   "execution_count": 11,
   "metadata": {},
   "outputs": [
    {
     "name": "stdout",
     "output_type": "stream",
     "text": [
      "[[28, -27], [29, -27], [30, -27], [31, -27], [31, -28], [31, -29], [32, -27], [32, -28], [32, -30], [33, -27], [33, -29], [33, -30], [34, -27], [34, -28], [34, -29], [34, -30], [34, -31], [34, -32], [34, -33]]\n"
     ]
    }
   ],
   "source": [
    "def clause3(yB, y2i):\n",
    "    clauses_coalition_strength = []\n",
    "\n",
    "    #On parcourt les différentes coalitions\n",
    "    for index, coalition in enumerate(yB):\n",
    "        variable_1 = y2i[coalition]\n",
    "        #On parcourt les coalitions plus petites\n",
    "        coalitions_inf=[]\n",
    "        for i in range(index):\n",
    "            #si elle est inclue dans notre coalition\n",
    "            if set(yB[i]).issubset(coalition):\n",
    "                coalitions_inf.append(yB[i])\n",
    "\n",
    "        for coalition_inf in coalitions_inf:\n",
    "            variable_2 = y2i[coalition_inf]\n",
    "\n",
    "            if ([variable_1, -variable_2] not in clauses_coalition_strength):\n",
    "                clauses_coalition_strength.append([variable_1, -variable_2])\n",
    "                \n",
    "    return clauses_coalition_strength\n",
    "\n",
    "\n",
    "clauses_coalition_strength=clause3(yB, y2i)\n",
    "print(clauses_coalition_strength)"
   ]
  },
  {
   "cell_type": "markdown",
   "metadata": {},
   "source": [
    "* ### Clause 4 :\n",
    "\n",
    "Vi∈B(¬x(i,h,ui)) ∨ ¬yB\n",
    "\n",
    "Si toutes les notes de u (qui a été évalué par la classe h-1) sont au-dessus de la frontière de la classe h, alors B n'est pas une coalition suffisante.\n",
    "\n",
    "Autre formulation : Soit la coalition B n'est pas suffisante, soit elle l'est et dans ce cas il y a au moins une note de u (évalué par la classe h-1) qui ne peut pas être de la classe h."
   ]
  },
  {
   "cell_type": "code",
   "execution_count": 12,
   "metadata": {},
   "outputs": [
    {
     "name": "stdout",
     "output_type": "stream",
     "text": [
      "[[-27, -4, -26, -6], [-27, -25, -22, -3], [-27, -17, -22, -12], [-27, -17, -15, -19], [-28, -4, -26, -6], [-28, -25, -22, -3], [-28, -17, -22, -12], [-28, -17, -15, -19], [-29, -4, -26, -6], [-29, -25, -22, -3], [-29, -17, -22, -12], [-29, -17, -15, -19], [-30, -4, -26, -6], [-30, -25, -22, -3], [-30, -17, -22, -12], [-30, -17, -15, -19], [-31, -4, -26, -6], [-31, -25, -22, -3], [-31, -17, -22, -12], [-31, -17, -15, -19], [-32, -4, -26, -6], [-32, -25, -22, -3], [-32, -17, -22, -12], [-32, -17, -15, -19], [-33, -4, -26, -6], [-33, -25, -22, -3], [-33, -17, -22, -12], [-33, -17, -15, -19], [-34, -4, -26, -6], [-34, -25, -22, -3], [-34, -17, -22, -12], [-34, -17, -15, -19]]\n"
     ]
    }
   ],
   "source": [
    "def clause4(classes_count, X, yB, y2i, x2i):\n",
    "    clauses4= []\n",
    "\n",
    "    #On parcourt les coalitions\n",
    "    for coalition in yB:\n",
    "        variable_1 = y2i[coalition]\n",
    "\n",
    "        #On parcourt les classes\n",
    "        for student_class in range(1, classes_count):\n",
    "            \n",
    "            #On parcourt les étudiants qui appartiennent à cette classe\n",
    "            for student in X[student_class-1]:\n",
    "                \n",
    "                variables_list = [-variable_1]\n",
    "                \n",
    "                #On parcourt les matières\n",
    "                for subject_index, subject in enumerate(student):\n",
    "                    variable_2 = x2i[(subject_index, student_class, subject)]\n",
    "\n",
    "                    variables_list.append(-variable_2)\n",
    "        \n",
    "                    if variables_list not in clauses4:\n",
    "                        clauses4.append(variables_list)\n",
    "\n",
    "    return clauses4\n",
    "\n",
    "clauses4 = clause4(classes_count, X, yB, y2i, x2i)\n",
    "print(clauses4)          "
   ]
  },
  {
   "cell_type": "markdown",
   "metadata": {},
   "source": [
    "* ### Clause 5 :\n",
    "\n",
    "Vi∈B(x(i,h,ai)) ∨ yN\\B"
   ]
  },
  {
   "cell_type": "code",
   "execution_count": 13,
   "metadata": {},
   "outputs": [
    {
     "name": "stdout",
     "output_type": "stream",
     "text": [
      "[[34, 10, 9, 11], [34, 5, 9, 21], [34, 5, 1, 2], [34, 8, 7, 13], [33, 10, 9, 11], [33, 5, 9, 21], [33, 5, 1, 2], [33, 8, 7, 13], [32, 10, 9, 11], [32, 5, 9, 21], [32, 5, 1, 2], [32, 8, 7, 13], [31, 10, 9, 11], [31, 5, 9, 21], [31, 5, 1, 2], [31, 8, 7, 13], [30, 10, 9, 11], [30, 5, 9, 21], [30, 5, 1, 2], [30, 8, 7, 13], [29, 10, 9, 11], [29, 5, 9, 21], [29, 5, 1, 2], [29, 8, 7, 13], [28, 10, 9, 11], [28, 5, 9, 21], [28, 5, 1, 2], [28, 8, 7, 13], [27, 10, 9, 11], [27, 5, 9, 21], [27, 5, 1, 2], [27, 8, 7, 13]]\n"
     ]
    }
   ],
   "source": [
    "def clause5(classes_count, X, yB, y2i, x2i):\n",
    "    clauses5= []\n",
    "\n",
    "    #On parcourt les coalitions\n",
    "    for coalition in yB:\n",
    "        \n",
    "        #Le complémentaire de cette coalition :\n",
    "        coalition_comp = [elem for elem in yB if set(elem).isdisjoint(coalition) and set((*elem,*coalition)).issuperset(set(range(subjects_count)))][0]\n",
    "        \n",
    "        variable_1 = y2i[coalition_comp]\n",
    "\n",
    "        #On parcourt les classes\n",
    "        for student_class in range(1, classes_count):\n",
    "            \n",
    "            #On parcourt les étudiants qui appartiennent à cette classe\n",
    "            for student in X[student_class]:\n",
    "                \n",
    "                variables_list = [variable_1]\n",
    "                \n",
    "                #On parcourt les matières\n",
    "                for subject_index, subject in enumerate(student):\n",
    "                    variable_2 = x2i[(subject_index, student_class, subject)]\n",
    "\n",
    "                    variables_list.append(variable_2)\n",
    "        \n",
    "                    if variables_list not in clauses5:\n",
    "                        clauses5.append(variables_list)\n",
    "\n",
    "    return clauses5\n",
    "\n",
    "clauses5 = clause5(classes_count, X, yB, y2i, x2i)\n",
    "print(clauses5)          "
   ]
  },
  {
   "cell_type": "markdown",
   "metadata": {},
   "source": [
    "## Construction du DIMACS et résolution"
   ]
  },
  {
   "cell_type": "code",
   "execution_count": 14,
   "metadata": {},
   "outputs": [],
   "source": [
    "def clauses_to_dimacs(clauses,numvar) :\n",
    "    dimacs = 'c This is it\\np cnf '+str(numvar)+' '+str(len(clauses))+'\\n'\n",
    "    for clause in clauses :\n",
    "        for atom in clause :\n",
    "            dimacs += str(atom) +' '\n",
    "        dimacs += '0\\n'\n",
    "    return dimacs\n",
    "\n",
    "def write_dimacs_file(dimacs, filename):\n",
    "    with open(filename, \"w\", newline=\"\") as cnf:\n",
    "        cnf.write(dimacs)\n",
    "\n",
    "#Attention à utiliser la vesion du solveur compatible avec votre système d'exploitation, mettre le solveur dans le même dossier que ce notebook        \n",
    "\n",
    "def exec_gophersat(filename, cmd = \"./NCS/Exemple_SAT_Test/gophersat/win64/gophersat-1.1.6.exe\", encoding = \"utf8\") :\n",
    "    result = subprocess.run([cmd, filename], stdout=subprocess.PIPE, check=True, encoding=encoding)\n",
    "    string = str(result.stdout)\n",
    "    lines = string.splitlines()\n",
    "\n",
    "    if lines[1] != \"s SATISFIABLE\":\n",
    "        return False, [], {}\n",
    "\n",
    "    model = lines[2][2:].split(\" \")\n",
    "    \n",
    "    return True, [int(x) for x in model[:-1] if int(x) != 0], { i2variables[abs(int(v))] : int(v) > 0 for v in model if int(v)!=0} \n"
   ]
  },
  {
   "cell_type": "code",
   "execution_count": 15,
   "metadata": {},
   "outputs": [
    {
     "name": "stdout",
     "output_type": "stream",
     "text": [
      "(True, [-1, -2, -3, 4, 5, -6, -7, 8, -9, 10, -11, -12, -13, -14, -15, -16, -17, -18, -19, 20, -21, -22, -23, -24, -25, -26, -27, -28, -29, -30, -31, -32, -33, -34], {(1, 1, 13): False, (2, 1, 0): False, (2, 2, 5): False, (0, 1, 6): True, (0, 1, 9): True, (2, 1, 15): False, (1, 2, 14): False, (0, 2, 10): True, (1, 1, 6): False, (0, 1, 5): True, (2, 1, 5): False, (2, 2, 10): False, (2, 2, 19): False, (1, 2, 1): False, (1, 2, 13): False, (0, 2, 6): False, (0, 2, 9): False, (1, 1, 14): False, (2, 2, 0): False, (0, 1, 10): True, (2, 1, 10): False, (1, 2, 6): False, (2, 2, 15): False, (2, 1, 19): False, (0, 2, 5): False, (1, 1, 1): False, (): False, (0,): False, (1,): False, (2,): False, (0, 1): False, (0, 2): False, (1, 2): False, (0, 1, 2): False})\n"
     ]
    }
   ],
   "source": [
    "#Lancer la résolution\n",
    "\n",
    "myClauses= clauses_ascending_scales + clauses_hierarchy_profiles + clauses_coalition_strength + clauses4 + clauses5\n",
    "\n",
    "myDimacs = clauses_to_dimacs(myClauses,len(variables))\n",
    "\n",
    "write_dimacs_file(myDimacs,\"workingfile.cnf\")\n",
    "res = exec_gophersat(\"workingfile.cnf\")\n",
    "\n",
    "#Résultat\n",
    "print(res)"
   ]
  },
  {
   "cell_type": "markdown",
   "metadata": {},
   "source": [
    "Commentaire : Nous n'avons pas obtenu de résultat convenable (aucune des coalitions n'est suffisante par exemple). "
   ]
  },
  {
   "cell_type": "code",
   "execution_count": null,
   "metadata": {},
   "outputs": [],
   "source": []
  }
 ],
 "metadata": {
  "kernelspec": {
   "display_name": "Python 3",
   "language": "python",
   "name": "python3"
  },
  "language_info": {
   "codemirror_mode": {
    "name": "ipython",
    "version": 3
   },
   "file_extension": ".py",
   "mimetype": "text/x-python",
   "name": "python",
   "nbconvert_exporter": "python",
   "pygments_lexer": "ipython3",
   "version": "3.8.5"
  }
 },
 "nbformat": 4,
 "nbformat_minor": 4
}
