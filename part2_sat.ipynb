{
 "cells": [
  {
   "cell_type": "markdown",
   "metadata": {},
   "source": [
    "## PARTIE 2 : SAT"
   ]
  },
  {
   "cell_type": "code",
   "execution_count": 82,
   "metadata": {},
   "outputs": [],
   "source": [
    "import numpy as np\n",
    "import random\n",
    "from itertools import combinations, chain\n",
    "import subprocess"
   ]
  },
  {
   "cell_type": "markdown",
   "metadata": {},
   "source": [
    "## Création d'un dataset"
   ]
  },
  {
   "cell_type": "code",
   "execution_count": 234,
   "metadata": {},
   "outputs": [],
   "source": [
    "def check_class(student, w, frontiers_list, lambdou):\n",
    "    \"\"\"\n",
    "    Retourne la classe d'un étudiant\n",
    "    :param student: {np.array} Notes d'un élève donné\n",
    "    :param w: {np.array} Coefficients des matières\n",
    "    :param frontiers_list: {np.array[]} Frontières des notes pour chaque matière\n",
    "    :param lambdou: {int} Seuil de majorité\n",
    "    :return: {int} Retourne la classe d'un étudiant (ex: 0 pour refusé, 1 pour accepté)\n",
    "    \"\"\"\n",
    "    #On part de la classe 0 et on incrémente à chaque fois que la somme des coeffs des matières que l'élève valide pour un niveau donné dépasse lambda\n",
    "    student_class = 0\n",
    "\n",
    "    #frontiers_list contient une liste de notes frontières pour chaque matières\n",
    "    #on transforme pour avoir une liste de frontières des matières pour chaque classe\n",
    "    frontiers_t = frontiers_list.T\n",
    "\n",
    "    for frontiers in frontiers_t:\n",
    "        coeffs_sum = ((student >= frontiers) * w).sum()\n",
    "        if coeffs_sum >= lambdou:\n",
    "            student_class += 1\n",
    "        else:\n",
    "            break\n",
    "\n",
    "    return student_class"
   ]
  },
  {
   "cell_type": "code",
   "execution_count": 235,
   "metadata": {},
   "outputs": [],
   "source": [
    "def generate_dataset(students_count, subjects_count, classes_count):\n",
    "    \"\"\"\n",
    "    Crée un dataset de notes d'étudiant et de leur classe attribuée\n",
    "    :param students_count: {int} Nombre d'étudiants\n",
    "    :param subjects_count: {int} Nombre de matières\n",
    "    :param classes_count:  {int} Nombre de classes (ex: 2 pour {Accepté, Refusé})\n",
    "    :return: {list(np.array()[]} Liste de classes_count matrices de notes\n",
    "    \"\"\"\n",
    "    #On génère les coefficients des différentes matières, dont la somme vaut 1\n",
    "    w_ects = np.random.randint(0, 30, subjects_count)\n",
    "    w = w_ects / w_ects.sum()\n",
    "    print(\"\\nLes coeffs sont = \", w)\n",
    "\n",
    "    #Les frontières entre chaque classe (si 2 classes A et R, seulement 1 frontière)\n",
    "    frontiers_list = np.zeros((subjects_count, classes_count - 1))\n",
    "    for i in range(subjects_count):\n",
    "        frontiers = np.sort(random.sample(list(range(1, 21)), classes_count - 1))\n",
    "        frontiers_list[i,] = frontiers\n",
    "    print(\"\\nLes frontières sont = \", frontiers_list)\n",
    "\n",
    "    #La somme des coeffs minimales à avoir pour être dans une classe donnée\n",
    "    lambdou = random.uniform(0.5, 1)\n",
    "    print(\"\\nlambda = \", lambdou)\n",
    "\n",
    "    #On génère les notes des élèves (1 ligne par élève)\n",
    "    S = np.random.randint(0, 21, (students_count, subjects_count))\n",
    "    print(\"\\nLes notes des élèves :\")\n",
    "    print(S)\n",
    "\n",
    "    #On regarde à quelle classe est associé chaque élève en fonction de ses notes\n",
    "    y = []\n",
    "    for student in S:\n",
    "        student_class = check_class(student, w, frontiers_list, lambdou)\n",
    "        y.append(student_class)\n",
    "\n",
    "    print(\"\\nLes classes des élèves :\")\n",
    "    print(y)\n",
    "\n",
    "    return S, y"
   ]
  },
  {
   "cell_type": "code",
   "execution_count": 236,
   "metadata": {},
   "outputs": [
    {
     "name": "stdout",
     "output_type": "stream",
     "text": [
      "\n",
      "Les coeffs sont =  [0.20930233 0.13953488 0.65116279]\n",
      "\n",
      "Les frontières sont =  [[ 9.]\n",
      " [ 8.]\n",
      " [18.]]\n",
      "\n",
      "lambda =  0.7349990112398568\n",
      "\n",
      "Les notes des élèves :\n",
      "[[11 17 16]\n",
      " [ 6  2  5]\n",
      " [17  7  7]\n",
      " [11  1 17]\n",
      " [ 9 17  2]\n",
      " [17  8  1]\n",
      " [ 4 12  0]\n",
      " [20 10 20]\n",
      " [16  0  8]\n",
      " [ 2 18 20]]\n",
      "\n",
      "Les classes des élèves :\n",
      "[0, 0, 0, 0, 0, 0, 0, 1, 0, 1]\n"
     ]
    }
   ],
   "source": [
    "S, y = generate_dataset(10, 3, 2)"
   ]
  },
  {
   "cell_type": "markdown",
   "metadata": {},
   "source": [
    "On génère notre dataset."
   ]
  },
  {
   "cell_type": "code",
   "execution_count": 237,
   "metadata": {},
   "outputs": [
    {
     "name": "stdout",
     "output_type": "stream",
     "text": [
      "\n",
      "Les coeffs sont =  [0.22222222 0.77777778]\n",
      "\n",
      "Les frontières sont =  [[ 3. 10.]\n",
      " [ 3. 10.]]\n",
      "\n",
      "lambda =  0.6109114234076056\n",
      "\n",
      "Les notes des élèves :\n",
      "[[ 0 14]\n",
      " [ 0  1]\n",
      " [ 5  4]\n",
      " [ 3 18]]\n",
      "\n",
      "Les classes des élèves :\n",
      "[2, 0, 1, 2]\n"
     ]
    }
   ],
   "source": [
    "students_count = 4\n",
    "subjects_count = 2 #les différentes matières (critères)\n",
    "classes_count = 3 #Accepté ou refusé\n",
    "\n",
    "S, y = generate_dataset(students_count, subjects_count, classes_count)"
   ]
  },
  {
   "cell_type": "markdown",
   "metadata": {},
   "source": [
    "## Variables"
   ]
  },
  {
   "cell_type": "markdown",
   "metadata": {},
   "source": [
    "* ### x(i, h, k)\n",
    "\n",
    "On crée les variables binaires x(i, h, k) signifiant \"la note k pour le critère i correspond à la classe k\" (et qui valent donc 1 dans ce cas, 0 sinon)"
   ]
  },
  {
   "cell_type": "code",
   "execution_count": 238,
   "metadata": {},
   "outputs": [
    {
     "name": "stdout",
     "output_type": "stream",
     "text": [
      "[(0, 1, 0), (0, 2, 0), (1, 1, 14), (1, 2, 14), (0, 1, 0), (0, 2, 0), (1, 1, 1), (1, 2, 1), (0, 1, 5), (0, 2, 5), (1, 1, 4), (1, 2, 4), (0, 1, 3), (0, 2, 3), (1, 1, 18), (1, 2, 18)]\n"
     ]
    }
   ],
   "source": [
    "x=[]\n",
    "for student in range(students_count):\n",
    "    for subject in range (subjects_count):\n",
    "        for student_class in range(1, classes_count):\n",
    "            x.append((subject, student_class, S[student][subject]))\n",
    "            \n",
    "print(x)"
   ]
  },
  {
   "cell_type": "markdown",
   "metadata": {},
   "source": [
    "* ### y(B) \n",
    "On crée les variables binaires y(B) signifiant \"la  coalition B est suffisante\" (et qui valent 1 dans ce cas, 0 sinon)"
   ]
  },
  {
   "cell_type": "code",
   "execution_count": 239,
   "metadata": {},
   "outputs": [
    {
     "name": "stdout",
     "output_type": "stream",
     "text": [
      "[(), (0,), (1,), (0, 1)]\n"
     ]
    }
   ],
   "source": [
    "#Ensemble des critères\n",
    "I = list(range(subjects_count))\n",
    "\n",
    "yB = []\n",
    "for n in range(0,len(I)+1):\n",
    "    yB.append([i for i in combinations(I,n)])\n",
    "\n",
    "yB=list(chain.from_iterable(yB))\n",
    "print(yB)"
   ]
  },
  {
   "cell_type": "markdown",
   "metadata": {},
   "source": [
    "### Traduction des variables en dictionnaires pour le solveur SAT"
   ]
  },
  {
   "cell_type": "code",
   "execution_count": 240,
   "metadata": {},
   "outputs": [
    {
     "name": "stdout",
     "output_type": "stream",
     "text": [
      "x to Integers\n",
      "{(1, 2, 1): 1, (0, 1, 0): 2, (0, 2, 0): 3, (0, 1, 3): 4, (0, 2, 3): 5, (1, 1, 18): 6, (1, 2, 18): 7, (0, 1, 5): 8, (0, 2, 5): 9, (1, 1, 14): 10, (1, 1, 4): 11, (1, 2, 14): 12, (1, 1, 1): 13, (1, 2, 4): 14}\n",
      "\n",
      "Integers to x\n",
      "{1: (1, 2, 1), 2: (0, 1, 0), 3: (0, 2, 0), 4: (0, 1, 3), 5: (0, 2, 3), 6: (1, 1, 18), 7: (1, 2, 18), 8: (0, 1, 5), 9: (0, 2, 5), 10: (1, 1, 14), 11: (1, 1, 4), 12: (1, 2, 14), 13: (1, 1, 1), 14: (1, 2, 4)}\n"
     ]
    }
   ],
   "source": [
    "x2i = {v : i+1 for i,v in enumerate(set(x))} #numérotation qui commence à 1\n",
    "i2x = {i : v for v,i in x2i.items()}\n",
    "\n",
    "print(\"x to Integers\")\n",
    "print(x2i)\n",
    "\n",
    "print(\"\\nIntegers to x\")\n",
    "print(i2x)"
   ]
  },
  {
   "cell_type": "code",
   "execution_count": 241,
   "metadata": {},
   "outputs": [
    {
     "name": "stdout",
     "output_type": "stream",
     "text": [
      "yB to Integers\n",
      "{(): 15, (0,): 16, (1,): 17, (0, 1): 18}\n",
      "\n",
      "Integers to yB\n",
      "{15: (), 16: (0,), 17: (1,), 18: (0, 1)}\n"
     ]
    }
   ],
   "source": [
    "y2i = {v : i+len(x2i)+1 for i,v in enumerate(yB)} #numérotation qui commence à taille de x2i + 1\n",
    "i2y = {i : v for v,i in y2i.items()}\n",
    "\n",
    "print(\"yB to Integers\")\n",
    "print(y2i)\n",
    "\n",
    "print(\"\\nIntegers to yB\")\n",
    "print(i2y)"
   ]
  },
  {
   "cell_type": "code",
   "execution_count": 242,
   "metadata": {},
   "outputs": [
    {
     "name": "stdout",
     "output_type": "stream",
     "text": [
      "{(1, 2, 1): 1, (0, 1, 0): 2, (0, 2, 0): 3, (0, 1, 3): 4, (0, 2, 3): 5, (1, 1, 18): 6, (1, 2, 18): 7, (0, 1, 5): 8, (0, 2, 5): 9, (1, 1, 14): 10, (1, 1, 4): 11, (1, 2, 14): 12, (1, 1, 1): 13, (1, 2, 4): 14, (): 15, (0,): 16, (1,): 17, (0, 1): 18}\n",
      "{1: (1, 2, 1), 2: (0, 1, 0), 3: (0, 2, 0), 4: (0, 1, 3), 5: (0, 2, 3), 6: (1, 1, 18), 7: (1, 2, 18), 8: (0, 1, 5), 9: (0, 2, 5), 10: (1, 1, 14), 11: (1, 1, 4), 12: (1, 2, 14), 13: (1, 1, 1), 14: (1, 2, 4), 15: (), 16: (0,), 17: (1,), 18: (0, 1)}\n"
     ]
    }
   ],
   "source": [
    "#Fusion des 2 dictionnaires\n",
    "variables = {**x2i, **y2i}\n",
    "print(variables)\n",
    "i2variables = {i : v for v,i in variables.items()}\n",
    "print(i2variables)"
   ]
  },
  {
   "cell_type": "markdown",
   "metadata": {},
   "source": [
    "## Clauses"
   ]
  },
  {
   "cell_type": "markdown",
   "metadata": {},
   "source": [
    "* ### Clause 1 : \"échelle ascendente\"\n",
    "\n",
    "x(i,h,k') ∨ ¬x(i,h,k) (avec k<k')\n",
    "\n",
    "Pour 2 notes k et k' sur un critère i, soit on a k' qui n'appartient pas à la classe h, soit k' appartient à h et dans ce cas k appartient aussi au moins à la classe h."
   ]
  },
  {
   "cell_type": "code",
   "execution_count": 243,
   "metadata": {},
   "outputs": [
    {
     "name": "stdout",
     "output_type": "stream",
     "text": [
      "[[8, -2], [8, -4], [9, -3], [9, -5], [4, -2], [5, -3], [10, -13], [10, -11], [12, -1], [12, -14], [11, -13], [14, -1], [6, -10], [6, -13], [6, -11], [7, -12], [7, -1], [7, -14]]\n"
     ]
    }
   ],
   "source": [
    "def clause1(classes_count, S, x, x2i):\n",
    "    clauses_ascending_scales = []\n",
    "\n",
    "    #On parcourt les matières\n",
    "    for subject_index, subject in enumerate(S.T) : \n",
    "        #On parcourt les notes\n",
    "        for student in subject:\n",
    "            #On regarde les index des étudiants dont la note est inférieure\n",
    "            students_inf_index = np.argwhere(subject < student)\n",
    "            #Pour chaque classe\n",
    "            for student_class in range (1, classes_count):\n",
    "                variable_1 = x2i[(subject_index, student_class, student)]\n",
    "                #Pour chaque étudiant dont la note est inférieure à l'étudiant regardé\n",
    "                for index in students_inf_index:\n",
    "                    variable_2 = x2i[(subject_index, student_class, subject[index[0]])]\n",
    "\n",
    "                    if ([variable_1, -variable_2] not in clauses_ascending_scales):\n",
    "                        clauses_ascending_scales.append([variable_1, -variable_2])\n",
    "\n",
    "    return clauses_ascending_scales\n",
    "\n",
    "clauses_ascending_scales=clause1(classes_count, S, x, x2i)\n",
    "print(clauses_ascending_scales)"
   ]
  },
  {
   "cell_type": "markdown",
   "metadata": {},
   "source": [
    "* ### Clause 2 : \"hiérarchie des profils\"\n",
    "\n",
    "x(i,h,k) ∨ ¬x(i,h',k) (avec 1<=h<h'<p-1)\n",
    "\n",
    "Pour une note donnée k sur le critère i, soit la note appartient à la classe h, soit elle n'appartient pas à la classe h et dans ce cas elle n'appartient pas non plus à la classe du dessus.\n",
    "\n",
    "**Remarque :** Dans le cas où on a que 2 classes (Accepté et Refusé par exemple), cet ensemble de clauses est vide car on a juste h = 1"
   ]
  },
  {
   "cell_type": "code",
   "execution_count": 244,
   "metadata": {},
   "outputs": [
    {
     "name": "stdout",
     "output_type": "stream",
     "text": [
      "[[2, -3], [8, -9], [4, -5], [10, -12], [13, -1], [11, -14], [6, -7]]\n"
     ]
    }
   ],
   "source": [
    "def clause2(classes_count, S, x, x2i):\n",
    "    clauses_hierarchy_profiles = []\n",
    "\n",
    "    #On parcourt les classes\n",
    "    for student_class in range(1, classes_count):\n",
    "        #on regarde les classes qui sont inférieures :\n",
    "        classes_inf = list(range(1, student_class))\n",
    "\n",
    "        #on parcourt les matières:\n",
    "        for subject_index, subject in enumerate(S.T) :\n",
    "            #On parcourt les notes\n",
    "            for student in subject :\n",
    "                variable_1 = x2i[(subject_index, student_class, student)]\n",
    "                #on parcourt les classes qui sont inférieures\n",
    "                for classe_inf in classes_inf :\n",
    "                    variable_2 = x2i[(subject_index, classe_inf, student)]\n",
    "\n",
    "                    if ([variable_2, -variable_1] not in clauses_hierarchy_profiles):\n",
    "                        clauses_hierarchy_profiles.append([variable_2, -variable_1])\n",
    "\n",
    "    return(clauses_hierarchy_profiles)\n",
    "     \n",
    "clauses_hierarchy_profiles=clause2(classes_count, S, x, x2i)\n",
    "print(clauses_hierarchy_profiles)"
   ]
  },
  {
   "cell_type": "markdown",
   "metadata": {},
   "source": [
    "* ### Clause 3 : \"force de coalitions\"\n",
    "\n",
    "yB' ∨ ¬yB (avec B ⊂ B' ⊆ N )\n",
    "\n",
    "Soit la coalition B n'est pas suffisante, soit elle l'est et dans ce cas B' l'est aussi."
   ]
  },
  {
   "cell_type": "code",
   "execution_count": 245,
   "metadata": {},
   "outputs": [
    {
     "name": "stdout",
     "output_type": "stream",
     "text": [
      "[[16, -15], [17, -15], [18, -15], [18, -16], [18, -17]]\n"
     ]
    }
   ],
   "source": [
    "def clause3(yB, y2i):\n",
    "    clauses_coalition_strength = []\n",
    "\n",
    "    #On parcourt les différentes coalitions\n",
    "    for index, coalition in enumerate(yB):\n",
    "        variable_1 = y2i[coalition]\n",
    "        #On parcourt les coalitions plus petites\n",
    "        coalitions_inf=[]\n",
    "        for i in range(index):\n",
    "            #si elle est inclue dans notre coalition\n",
    "            if set(yB[i]).issubset(coalition):\n",
    "                coalitions_inf.append(yB[i])\n",
    "\n",
    "        for coalition_inf in coalitions_inf:\n",
    "            variable_2 = y2i[coalition_inf]\n",
    "\n",
    "            if ([variable_1, -variable_2] not in clauses_coalition_strength):\n",
    "                clauses_coalition_strength.append([variable_1, -variable_2])\n",
    "                \n",
    "    return clauses_coalition_strength\n",
    "\n",
    "\n",
    "clauses_coalition_strength=clause3(yB, y2i)\n",
    "print(clauses_coalition_strength)"
   ]
  },
  {
   "cell_type": "markdown",
   "metadata": {},
   "source": [
    "* ### Clause 4 :\n",
    "\n",
    "Vi∈B(¬x(i,h,ui)) ∨ ¬yB\n",
    "\n",
    "Si toutes les notes de u (qui a été évalué par la classe h-1) sont au-dessus de la frontière de la classe h, alors B n'est pas une coalition suffisante.\n",
    "\n",
    "Autre formulation : Soit la coalition B n'est pas suffisante, soit elle l'est et dans ce cas il y a au moins une note de u (évalué par la classe h-1) qui ne peut pas être de la classe h."
   ]
  },
  {
   "cell_type": "code",
   "execution_count": 246,
   "metadata": {},
   "outputs": [
    {
     "name": "stdout",
     "output_type": "stream",
     "text": [
      "[[-15, -3, -12], [-15, -3, -1], [-15, -9, -14], [-15, -5, -7], [-16, -3, -12], [-16, -3, -1], [-16, -9, -14], [-16, -5, -7], [-17, -3, -12], [-17, -3, -1], [-17, -9, -14], [-17, -5, -7], [-18, -3, -12], [-18, -3, -1], [-18, -9, -14], [-18, -5, -7]]\n"
     ]
    }
   ],
   "source": [
    "def clause4(classes_count, S, yB, y2i, x2i):\n",
    "    clauses4= []\n",
    "\n",
    "    #On parcourt les coalitions\n",
    "    for coalition in yB:\n",
    "        variable_1 = y2i[coalition]\n",
    "\n",
    "        #On parcourt les étudiants\n",
    "        for student in S:\n",
    "            variables_list = [-variable_1]\n",
    "\n",
    "            #On parcourt les classes:\n",
    "            for student_class in range(1, classes_count):\n",
    "                if student_class < classes_count -1:\n",
    "                    class_sup = student_class+1\n",
    "\n",
    "                    #On parcourt les matières\n",
    "                    for subject_index, grade in enumerate(student) :\n",
    "                        variable_2 = x2i[(subject_index, class_sup, grade)]\n",
    "                        variables_list.append(-variable_2)\n",
    "\n",
    "                if variables_list not in clauses4:\n",
    "                    clauses4.append(variables_list)\n",
    "\n",
    "    return clauses4\n",
    "\n",
    "clauses4 = clause4(classes_count, S, yB, y2i, x2i)\n",
    "print(clauses4)          "
   ]
  },
  {
   "cell_type": "markdown",
   "metadata": {},
   "source": [
    "* ### Clause 5 :\n",
    "\n",
    "Vi∈B(x(i,h,ai)) ∨ yN\\B"
   ]
  },
  {
   "cell_type": "code",
   "execution_count": 248,
   "metadata": {},
   "outputs": [
    {
     "name": "stdout",
     "output_type": "stream",
     "text": [
      "[[-18, 3, 12], [-18, 3, 1], [-18, 9, 14], [-18, 5, 7], [-17, 3, 12], [-17, 3, 1], [-17, 9, 14], [-17, 5, 7], [-16, 3, 12], [-16, 3, 1], [-16, 9, 14], [-16, 5, 7], [-15, 3, 12], [-15, 3, 1], [-15, 9, 14], [-15, 5, 7]]\n"
     ]
    }
   ],
   "source": [
    "def clause5(classes_count, S, yB, y2i, x2i):\n",
    "    clauses5= []\n",
    "\n",
    "    #On parcourt les coalitions\n",
    "    for coalition in yB:\n",
    "        \n",
    "        #Le complémentaire de cette coalition :\n",
    "        coalition_comp = [elem for elem in yB if set(elem).isdisjoint(coalition) and set((*elem,*coalition)).issuperset(set(range(subjects_count)))][0]\n",
    "        \n",
    "        variable_1 = y2i[coalition_comp]\n",
    "\n",
    "        #On parcourt les étudiants\n",
    "        for student in S:\n",
    "            variables_list = [-variable_1]\n",
    "\n",
    "            #On parcourt les classes:\n",
    "            for student_class in range(1, classes_count):\n",
    "                if student_class < classes_count -1:\n",
    "                    class_sup = student_class+1\n",
    "\n",
    "                    #On parcourt les matières\n",
    "                    for subject_index, grade in enumerate(student) :\n",
    "                        variable_2 = x2i[(subject_index, class_sup, grade)]\n",
    "                        variables_list.append(variable_2)\n",
    "\n",
    "                if variables_list not in clauses5:\n",
    "                    clauses5.append(variables_list)\n",
    "\n",
    "    return clauses5\n",
    "\n",
    "clauses5 = clause5(classes_count, S, yB, y2i, x2i)\n",
    "print(clauses5)          "
   ]
  },
  {
   "cell_type": "markdown",
   "metadata": {},
   "source": [
    "## Construction du DIMACS et résolution"
   ]
  },
  {
   "cell_type": "code",
   "execution_count": 249,
   "metadata": {},
   "outputs": [],
   "source": [
    "def clauses_to_dimacs(clauses,numvar) :\n",
    "    dimacs = 'c This is it\\np cnf '+str(numvar)+' '+str(len(clauses))+'\\n'\n",
    "    for clause in clauses :\n",
    "        for atom in clause :\n",
    "            dimacs += str(atom) +' '\n",
    "        dimacs += '0\\n'\n",
    "    return dimacs\n",
    "\n",
    "def write_dimacs_file(dimacs, filename):\n",
    "    with open(filename, \"w\", newline=\"\") as cnf:\n",
    "        cnf.write(dimacs)\n",
    "\n",
    "#Attention à utiliser la vesion du solveur compatible avec votre système d'exploitation, mettre le solveur dans le même dossier que ce notebook        \n",
    "\n",
    "def exec_gophersat(filename, cmd = \"./NCS/Exemple_SAT_Test/gophersat/win64/gophersat-1.1.6.exe\", encoding = \"utf8\") :\n",
    "    result = subprocess.run([cmd, filename], stdout=subprocess.PIPE, check=True, encoding=encoding)\n",
    "    string = str(result.stdout)\n",
    "    lines = string.splitlines()\n",
    "    \n",
    "    print(lines)\n",
    "\n",
    "    if lines[1] != \"s SATISFIABLE\":\n",
    "        return False, [], {}\n",
    "\n",
    "    model = lines[2][2:].split(\" \")\n",
    "    \n",
    "    return True, [int(x) for x in model[:-1] if int(x) != 0], { i2variables[abs(int(v))] : int(v) > 0 for v in model if int(v)!=0} \n"
   ]
  },
  {
   "cell_type": "code",
   "execution_count": 250,
   "metadata": {},
   "outputs": [
    {
     "name": "stdout",
     "output_type": "stream",
     "text": [
      "['c solving workingfile.cnf', 's SATISFIABLE', 'v -1 -2 -3 -4 -5 -6 -7 -8 -9 -10 -11 -12 -13 -14 -15 -16 -17 -18 0']\n",
      "(True, [-1, -2, -3, -4, -5, -6, -7, -8, -9, -10, -11, -12, -13, -14, -15, -16, -17, -18], {(1, 2, 1): False, (0, 1, 0): False, (0, 2, 0): False, (0, 1, 3): False, (0, 2, 3): False, (1, 1, 18): False, (1, 2, 18): False, (0, 1, 5): False, (0, 2, 5): False, (1, 1, 14): False, (1, 1, 4): False, (1, 2, 14): False, (1, 1, 1): False, (1, 2, 4): False, (): False, (0,): False, (1,): False, (0, 1): False})\n"
     ]
    }
   ],
   "source": [
    "#Lancer la résolution\n",
    "\n",
    "myClauses= clauses_ascending_scales + clauses_hierarchy_profiles + clauses_coalition_strength + clauses4 + clauses5\n",
    "myDimacs = clauses_to_dimacs(myClauses,len(variables))\n",
    "\n",
    "write_dimacs_file(myDimacs,\"workingfile.cnf\")\n",
    "res = exec_gophersat(\"workingfile.cnf\")\n",
    "\n",
    "#Résultat\n",
    "print(res)"
   ]
  },
  {
   "cell_type": "code",
   "execution_count": null,
   "metadata": {},
   "outputs": [],
   "source": []
  },
  {
   "cell_type": "code",
   "execution_count": null,
   "metadata": {},
   "outputs": [],
   "source": []
  }
 ],
 "metadata": {
  "kernelspec": {
   "display_name": "Python 3",
   "language": "python",
   "name": "python3"
  },
  "language_info": {
   "codemirror_mode": {
    "name": "ipython",
    "version": 3
   },
   "file_extension": ".py",
   "mimetype": "text/x-python",
   "name": "python",
   "nbconvert_exporter": "python",
   "pygments_lexer": "ipython3",
   "version": "3.8.5"
  }
 },
 "nbformat": 4,
 "nbformat_minor": 4
}
