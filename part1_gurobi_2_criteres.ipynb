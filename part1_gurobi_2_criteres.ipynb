{
 "cells": [
  {
   "cell_type": "markdown",
   "metadata": {},
   "source": [
    "# DM - Système de décision"
   ]
  },
  {
   "cell_type": "markdown",
   "metadata": {},
   "source": [
    "## PARTIE 1 : Gurobi"
   ]
  },
  {
   "cell_type": "code",
   "execution_count": 49,
   "metadata": {},
   "outputs": [],
   "source": [
    "import numpy as np\n",
    "from gurobipy import Model\n",
    "from gurobipy.gurobipy import GRB\n",
    "import random"
   ]
  },
  {
   "cell_type": "markdown",
   "metadata": {},
   "source": [
    "On génère un dataset qui pourra être résolu par notre solveur. \n",
    "\n",
    "Il nous faut donc des valeurs cohérentes de notes par rapport aux coefficients des différentes matières ainsi que des frontières entre les différentes classes (Accepté, Refusé, ...)."
   ]
  },
  {
   "cell_type": "code",
   "execution_count": 50,
   "metadata": {},
   "outputs": [],
   "source": [
    "def check_class(student, w, frontiers_list, lambdou):\n",
    "    \"\"\"\n",
    "    Retourne la classe d'un étudiant\n",
    "    :param student: {np.array} Notes d'un élève donné\n",
    "    :param w: {np.array} Coefficients des matières\n",
    "    :param frontiers_list: {np.array[]} Frontières des notes pour chaque matière\n",
    "    :param lambdou: {int} Seuil de majorité\n",
    "    :return: {int} Retourne la classe d'un étudiant (ex: 0 pour refusé, 1 pour accepté)\n",
    "    \"\"\"\n",
    "    #On part de la classe 0 et on incrémente à chaque fois que la somme des coeffs des matières que l'élève valide pour un niveau donné dépasse lambda\n",
    "    student_class = 0\n",
    "\n",
    "    #frontiers_list contient une liste de notes frontières pour chaque matières\n",
    "    #on transforme pour avoir une liste de frontières des matières pour chaque classe\n",
    "    frontiers_t = frontiers_list.T\n",
    "\n",
    "    for frontiers in frontiers_t:\n",
    "        coeffs_sum = ((student >= frontiers) * w).sum()\n",
    "        if coeffs_sum >= lambdou:\n",
    "            student_class += 1\n",
    "        else:\n",
    "            break\n",
    "\n",
    "    return student_class"
   ]
  },
  {
   "cell_type": "code",
   "execution_count": 51,
   "metadata": {},
   "outputs": [],
   "source": [
    "def convert_dataset(S, y, classes_count):\n",
    "    \"\"\"\n",
    "    :param S: {np.array[]} Notes des élèves\n",
    "    :param y: {list} Classe des élèves\n",
    "    :param classes_count: {int} Nombre de classes dans le dataset\n",
    "    :return: {list(np.array()[]} Liste de classes_count matrices de notes\n",
    "    \"\"\"\n",
    "    X = [[] for i in range(classes_count)]\n",
    "\n",
    "    for i in range(len(y)):\n",
    "        student_class = y[i]\n",
    "        X[student_class].append(list(S[i]))\n",
    "\n",
    "    return [np.array(matrix) for matrix in X]"
   ]
  },
  {
   "cell_type": "code",
   "execution_count": 52,
   "metadata": {},
   "outputs": [],
   "source": [
    "def generate_dataset(students_count, subjects_count, classes_count):\n",
    "    \"\"\"\n",
    "    Crée un dataset de notes d'étudiant et de leur classe attribuée\n",
    "    :param students_count: {int} Nombre d'étudiants\n",
    "    :param subjects_count: {int} Nombre de matières\n",
    "    :param classes_count:  {int} Nombre de classes (ex: 2 pour {Accepté, Refusé})\n",
    "    :return: {list(np.array()[]} Liste de classes_count matrices de notes\n",
    "    \"\"\"\n",
    "    #On génère les coefficients des différentes matières, dont la somme vaut 1\n",
    "    w_ects = np.random.randint(0, 30, subjects_count)\n",
    "    w = w_ects / w_ects.sum()\n",
    "    print(\"\\nLes coeffs sont = \", w)\n",
    "\n",
    "    #Les frontières entre chaque classe (si 2 classes A et R, seulement 1 frontière)\n",
    "    frontiers_list = np.zeros((subjects_count, classes_count - 1))\n",
    "    for i in range(subjects_count):\n",
    "        frontiers = np.sort(random.sample(list(range(1, 21)), classes_count - 1))\n",
    "        frontiers_list[i,] = frontiers\n",
    "    print(\"\\nLes frontières sont = \", frontiers_list)\n",
    "\n",
    "    #La somme des coeffs minimales à avoir pour être dans une classe donnée\n",
    "    lambdou = random.uniform(0.5, 1)\n",
    "    print(\"\\nlambda = \", lambdou)\n",
    "\n",
    "    #On génère les notes des élèves (1 ligne par élève)\n",
    "    S = np.random.randint(0, 21, (students_count, subjects_count))\n",
    "    print(\"\\nLes notes des élèves :\")\n",
    "    print(S)\n",
    "\n",
    "    #On regarde à quelle classe est associé chaque élève en fonction de ses notes\n",
    "    y = []\n",
    "    for student in S:\n",
    "        student_class = check_class(student, w, frontiers_list, lambdou)\n",
    "        y.append(student_class)\n",
    "\n",
    "    print(\"\\nLes classes des élèves :\")\n",
    "    print(y)\n",
    "\n",
    "    #On veut retourner une matrice par classe \n",
    "    #Si 2 classes A et R : A contient les notes des élèves qui sont admis et R les notes des élèves refusés\n",
    "    X = convert_dataset(S, y, classes_count)\n",
    "\n",
    "    return X\n"
   ]
  },
  {
   "cell_type": "code",
   "execution_count": 166,
   "metadata": {},
   "outputs": [
    {
     "name": "stdout",
     "output_type": "stream",
     "text": [
      "\n",
      "Les coeffs sont =  [0.02702703 0.35135135 0.16216216 0.45945946]\n",
      "\n",
      "Les frontières sont =  [[ 6. 20.]\n",
      " [ 4. 12.]\n",
      " [15. 16.]\n",
      " [14. 20.]]\n",
      "\n",
      "lambda =  0.9376180086891268\n",
      "\n",
      "Les notes des élèves :\n",
      "[[ 8  4 19 18]\n",
      " [20 14 16  3]\n",
      " [ 9 16  3  4]\n",
      " [19  8 17 15]\n",
      " [12 18 12  4]\n",
      " [15 13 16  7]\n",
      " [15  0  1  7]\n",
      " [11  5 19  1]\n",
      " [14  6  0  7]\n",
      " [ 7 12  8 19]]\n",
      "\n",
      "Les classes des élèves :\n",
      "[1, 0, 0, 1, 0, 0, 0, 0, 0, 0]\n"
     ]
    }
   ],
   "source": [
    "X = generate_dataset(10, 4, 3)"
   ]
  },
  {
   "cell_type": "code",
   "execution_count": 160,
   "metadata": {},
   "outputs": [],
   "source": [
    "def solve(X, students_count, subjects_count, classes_count, verbose=0):\n",
    "    \"\"\"\n",
    "    :param X: {list(np.array()[]} Liste de classes_count matrices de notes\n",
    "    :param students_count: {int} Nombre d'étudiants\n",
    "    :param subjects_count: {int} Nombre de matières\n",
    "    :param classes_count:  {int} Nombre de classes (ex: 2 pour {Accepté, Refusé})\n",
    "    :param verbose:\n",
    "    :return:\n",
    "    \"\"\"\n",
    "    R, *L, A = X\n",
    "\n",
    "    # Instanciation du modèle\n",
    "    m = Model(\"PL modeling\")\n",
    "\n",
    "    #------------------VARIABLES------------------\n",
    "\n",
    "    # Vecteur des coefficients des différentes matières\n",
    "    w = m.addMVar(shape=subjects_count, lb=0, ub=1, name=\"w\")\n",
    "\n",
    "    c_accepted = m.addMVar(shape=(len(A), subjects_count), lb=0, ub=1, name=\"c_accepted\")\n",
    "    c_refused = m.addMVar(shape=(len(R), subjects_count), lb=0, ub=1, name=\"c_refused\")\n",
    "\n",
    "    delta_accepted = m.addMVar(shape=(students_count, subjects_count), vtype=GRB.INTEGER, lb=0, ub=1,\n",
    "                               name=\"delta_accepted\")\n",
    "    delta_refused = m.addMVar(shape=(students_count, subjects_count), vtype=GRB.INTEGER, lb=0, ub=1, name=\"delta_refused\")\n",
    "\n",
    "    sigma_accepted = m.addMVar(shape=len(A), name=\"x\", vtype=GRB.CONTINUOUS)\n",
    "    sigma_refused = m.addMVar(shape=len(R), name=\"y\", vtype=GRB.CONTINUOUS)\n",
    "\n",
    "    lambd = m.addVar(name=\"lambda\", lb=0.5, ub=1)\n",
    "\n",
    "    b = m.addMVar(shape=subjects_count, name=\"b\", lb=0, ub=20)\n",
    "\n",
    "    alpha = m.addVar(name=\"alpha\")\n",
    "\n",
    "    m.update()\n",
    "\n",
    "    epsilon = 0.01\n",
    "\n",
    "    M = 150\n",
    "    \n",
    "    \n",
    "    #------------------CONTRAINTES------------------\n",
    "\n",
    "    # Validation constraint with sigma\n",
    "    for index, student_point in enumerate(c_accepted):\n",
    "        m.addConstr(sum(student_point) - sigma_accepted[index] + epsilon == lambd)\n",
    "\n",
    "    # Refusal constraint with sigma\n",
    "    for index, student_point in enumerate(c_refused):\n",
    "        m.addConstr(sum(student_point) == lambd - sigma_refused[index])\n",
    "\n",
    "    # Alpha is inferior than all sigmas\n",
    "    for offset in (*sigma_accepted, *sigma_refused):\n",
    "        m.addConstr(alpha <= offset)\n",
    "\n",
    "    # # cij is inferior than wi\n",
    "    # for matrix in (c_accepted ,c_refused):\n",
    "    #     for student in matrix:\n",
    "    #         for index, point in enumerate(student):\n",
    "    #             m.addConstr(point <= w[index])\n",
    "\n",
    "    accepted_tuple = (c_accepted, delta_accepted, A)\n",
    "    refused_tuple = (c_refused, delta_refused, R)\n",
    "\n",
    "    for c, delta, grades in (accepted_tuple, refused_tuple):\n",
    "        for i in range(c.shape[0]):\n",
    "            for j in range(c.shape[1]):\n",
    "                m.addConstr(c[i, j] <= w[j])\n",
    "                m.addConstr(c[i, j] <= delta[i, j])\n",
    "                m.addConstr(c[i, j] >= delta[i, j] - 1 + w[j])\n",
    "                m.addConstr(M * delta[i, j] + epsilon >= grades[i, j] - b[j])\n",
    "                m.addConstr(M * (delta[i, j] - 1) <= grades[i, j] - b[j])\n",
    "\n",
    "    m.addConstr(sum(w) == 1)\n",
    "\n",
    "    m.update()\n",
    "\n",
    "    if verbose:\n",
    "        m.params.outputflag = 0\n",
    "\n",
    "    #Fonction objectif\n",
    "    m.setObjective(alpha, GRB.MAXIMIZE)\n",
    "    m.update()\n",
    "\n",
    "    m.optimize()\n",
    "    print(\"====== Model solved =====\")\n",
    "    print(f\"alpha = {alpha.X}\")\n",
    "    print(f\"lambda = {lambd.X}\")\n",
    "    print(f\"b = {b.X}\")\n",
    "\n",
    "    print(\"\\nLes coefficients de notre solution optimale sont :\")\n",
    "    print(f\"__________________\")\n",
    "\n",
    "    print(f\"| Matière  |coeff|\")\n",
    "\n",
    "    for index, coef in enumerate(w.X):\n",
    "        print(f\"|matière {index + 1} | {coef.round(2)} |\")\n",
    "    print(f\"__________________\")\n",
    "\n",
    "    return A, R, w.X, lambd.X, b.X\n"
   ]
  },
  {
   "cell_type": "markdown",
   "metadata": {},
   "source": [
    "### Exemple 1 : \n",
    "\n",
    "20 élèves, 5 matières et 2 classes (Accepté ou Refusé) "
   ]
  },
  {
   "cell_type": "code",
   "execution_count": 161,
   "metadata": {
    "pycharm": {
     "name": "#%%\n"
    }
   },
   "outputs": [
    {
     "name": "stdout",
     "output_type": "stream",
     "text": [
      "\n",
      "Les coeffs sont =  [0.30864198 0.17283951 0.16049383 0.16049383 0.19753086]\n",
      "\n",
      "Les frontières sont =  [[ 9.]\n",
      " [13.]\n",
      " [ 4.]\n",
      " [13.]\n",
      " [14.]]\n",
      "\n",
      "lambda =  0.6510852823915507\n",
      "\n",
      "Les notes des élèves :\n",
      "[[18 13  1  4 15]\n",
      " [ 5  8  7 17 15]\n",
      " [14 15  4 16  0]\n",
      " [ 7 18 15 20  7]\n",
      " [ 8  8 13  1  1]\n",
      " [ 5 10 12  9  4]\n",
      " [ 1  6  5  5 12]\n",
      " [12 20 12 10 14]\n",
      " [ 8 12 16  4 11]\n",
      " [ 2 15 17 16  5]\n",
      " [ 7  3 20 10 16]\n",
      " [12  5  3 18 16]\n",
      " [ 1 18  2  4  0]\n",
      " [15  4  8 11  7]\n",
      " [ 4  3 18  6 10]\n",
      " [15  6  8  3  2]\n",
      " [ 8 11  9 15  9]\n",
      " [19 20  7  9 11]\n",
      " [ 0 11  5 14 15]\n",
      " [ 2  5 15 19  6]]\n",
      "\n",
      "Les classes des élèves :\n",
      "[1, 0, 1, 0, 0, 0, 0, 1, 0, 0, 0, 1, 0, 0, 0, 0, 0, 0, 0, 0]\n"
     ]
    }
   ],
   "source": [
    "X = generate_dataset(20, 5, 2)"
   ]
  },
  {
   "cell_type": "code",
   "execution_count": 162,
   "metadata": {},
   "outputs": [
    {
     "name": "stdout",
     "output_type": "stream",
     "text": [
      "Gurobi Optimizer version 9.5.0 build v9.5.0rc5 (win64)\n",
      "Thread count: 4 physical cores, 8 logical processors, using up to 8 threads\n",
      "Optimize a model with 541 rows, 332 columns and 1285 nonzeros\n",
      "Model fingerprint: 0xe3d53617\n",
      "Variable types: 132 continuous, 200 integer (0 binary)\n",
      "Coefficient statistics:\n",
      "  Matrix range     [1e+00, 2e+02]\n",
      "  Objective range  [1e+00, 1e+00]\n",
      "  Bounds range     [5e-01, 2e+01]\n",
      "  RHS range        [1e-02, 2e+02]\n",
      "Presolve removed 34 rows and 120 columns\n",
      "Presolve time: 0.00s\n",
      "Presolved: 507 rows, 212 columns, 1217 nonzeros\n",
      "Variable types: 107 continuous, 105 integer (100 binary)\n",
      "Found heuristic solution: objective 0.0040000\n",
      "Found heuristic solution: objective 0.0050000\n",
      "\n",
      "Root relaxation: objective 5.050000e-01, 184 iterations, 0.00 seconds (0.00 work units)\n",
      "\n",
      "    Nodes    |    Current Node    |     Objective Bounds      |     Work\n",
      " Expl Unexpl |  Obj  Depth IntInf | Incumbent    BestBd   Gap | It/Node Time\n",
      "\n",
      "     0     0    0.50500    0   19    0.00500    0.50500      -     -    0s\n",
      "     0     0    0.50500    0   10    0.00500    0.50500      -     -    0s\n",
      "H    0     0                       0.1300000    0.50500   288%     -    0s\n",
      "     0     0    0.50500    0   28    0.13000    0.50500   288%     -    0s\n",
      "     0     0    0.25500    0   35    0.13000    0.25500  96.2%     -    0s\n",
      "     0     0    0.25500    0   15    0.13000    0.25500  96.2%     -    0s\n",
      "     0     0    0.24310    0   25    0.13000    0.24310  87.0%     -    0s\n",
      "     0     0    0.24310    0   23    0.13000    0.24310  87.0%     -    0s\n",
      "     0     0    0.14786    0   18    0.13000    0.14786  13.7%     -    0s\n",
      "     0     0    0.14786    0   20    0.13000    0.14786  13.7%     -    0s\n",
      "     0     0    0.14786    0   20    0.13000    0.14786  13.7%     -    0s\n",
      "     0     0    0.14786    0    4    0.13000    0.14786  13.7%     -    0s\n",
      "     0     1    0.14786    0    4    0.13000    0.14786  13.7%     -    0s\n",
      "\n",
      "Cutting planes:\n",
      "  Learned: 68\n",
      "  Implied bound: 3\n",
      "  MIR: 8\n",
      "  Flow cover: 10\n",
      "  RLT: 18\n",
      "  Relax-and-lift: 3\n",
      "  BQP: 45\n",
      "\n",
      "Explored 8 nodes (972 simplex iterations) in 0.17 seconds (0.06 work units)\n",
      "Thread count was 8 (of 8 available processors)\n",
      "\n",
      "Solution count 3: 0.13 0.005 0.004 \n",
      "No other solutions better than 0.13\n",
      "\n",
      "Optimal solution found (tolerance 1.00e-04)\n",
      "Best objective 1.300000000000e-01, best bound 1.300000000000e-01, gap 0.0000%\n",
      "====== Model solved =====\n",
      "alpha = 0.13\n",
      "lambda = 0.63\n",
      "b = [12.   13.   12.   10.99 11.99]\n",
      "\n",
      "Les coefficients de notre solution optimale sont :\n",
      "__________________\n",
      "| Matière  |coeff|\n",
      "|matière 1 | 0.25 |\n",
      "|matière 2 | 0.25 |\n",
      "|matière 3 | 0.0 |\n",
      "|matière 4 | 0.25 |\n",
      "|matière 5 | 0.25 |\n",
      "__________________\n"
     ]
    }
   ],
   "source": [
    "accepted, refused, weigths, lambd, b = solve(X, 20, 5, 2, verbose=0)"
   ]
  },
  {
   "cell_type": "code",
   "execution_count": 163,
   "metadata": {},
   "outputs": [
    {
     "name": "stdout",
     "output_type": "stream",
     "text": [
      "[ True  True  True  True]\n"
     ]
    }
   ],
   "source": [
    "print((accepted >= b) @ weigths.T >= lambd)"
   ]
  },
  {
   "cell_type": "code",
   "execution_count": 164,
   "metadata": {
    "pycharm": {
     "name": "#%%\n"
    }
   },
   "outputs": [
    {
     "name": "stdout",
     "output_type": "stream",
     "text": [
      "[False False False False False False False False False False False False\n",
      " False False False False]\n"
     ]
    }
   ],
   "source": [
    "print((refused >= b) @ weigths.T >= lambd)"
   ]
  },
  {
   "cell_type": "markdown",
   "metadata": {
    "pycharm": {
     "name": "#%% md\n"
    }
   },
   "source": [
    "**Conclusion :**\n",
    "\n",
    "Avec 2 classes (Accepté, Refusé), notre MRSort fonctionne et nous renvoie une solution faisable pour notre dataset."
   ]
  },
  {
   "cell_type": "code",
   "execution_count": 56,
   "metadata": {
    "pycharm": {
     "name": "#%%\n"
    }
   },
   "outputs": [],
   "source": []
  }
 ],
 "metadata": {
  "kernelspec": {
   "display_name": "Python 3 (ipykernel)",
   "language": "python",
   "name": "python3"
  },
  "language_info": {
   "codemirror_mode": {
    "name": "ipython",
    "version": 3
   },
   "file_extension": ".py",
   "mimetype": "text/x-python",
   "name": "python",
   "nbconvert_exporter": "python",
   "pygments_lexer": "ipython3",
   "version": "3.7.11"
  }
 },
 "nbformat": 4,
 "nbformat_minor": 4
}