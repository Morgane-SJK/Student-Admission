{
 "cells": [
  {
   "cell_type": "markdown",
   "metadata": {},
   "source": [
    "# DM - Système de décision"
   ]
  },
  {
   "cell_type": "markdown",
   "metadata": {},
   "source": [
    "## PARTIE 1 : Gurobi"
   ]
  },
  {
   "cell_type": "code",
   "execution_count": 71,
   "metadata": {},
   "outputs": [],
   "source": [
    "import numpy as np\n",
    "from gurobipy import Model\n",
    "from gurobipy.gurobipy import GRB\n",
    "import random"
   ]
  },
  {
   "cell_type": "markdown",
   "metadata": {},
   "source": [
    "On génère un dataset qui pourra être résolu par notre solveur. \n",
    "\n",
    "Il nous faut donc des valeurs cohérentes de notes par rapport aux coefficients des différentes matières ainsi que des frontières entre les différentes classes (Accepté, Refusé, ...)."
   ]
  },
  {
   "cell_type": "code",
   "execution_count": 72,
   "metadata": {},
   "outputs": [],
   "source": [
    "def check_class(student, w, frontiers_list, lambdou):\n",
    "    \"\"\"\n",
    "    Retourne la classe d'un étudiant\n",
    "    :param student: {np.array} Notes d'un élève donné\n",
    "    :param w: {np.array} Coefficients des matières\n",
    "    :param frontiers_list: {np.array[]} Frontières des notes pour chaque matière\n",
    "    :param lambdou: {int} Seuil de majorité\n",
    "    :return: {int} Retourne la classe d'un étudiant (ex: 0 pour refusé, 1 pour accepté)\n",
    "    \"\"\"\n",
    "    #On part de la classe 0 et on incrémente à chaque fois que la somme des coeffs des matières que l'élève valide pour un niveau donné dépasse lambda\n",
    "    student_class = 0\n",
    "\n",
    "    #frontiers_list contient une liste de notes frontières pour chaque matières\n",
    "    #on transforme pour avoir une liste de frontières des matières pour chaque classe\n",
    "    frontiers_t = frontiers_list.T\n",
    "\n",
    "    for frontiers in frontiers_t:\n",
    "        coeffs_sum = ((student >= frontiers) * w).sum()\n",
    "        if coeffs_sum >= lambdou:\n",
    "            student_class += 1\n",
    "        else:\n",
    "            break\n",
    "\n",
    "    return student_class"
   ]
  },
  {
   "cell_type": "code",
   "execution_count": 73,
   "metadata": {},
   "outputs": [],
   "source": [
    "def convert_dataset(S, y, classes_count):\n",
    "    \"\"\"\n",
    "    :param S: {np.array[]} Notes des élèves\n",
    "    :param y: {list} Classe des élèves\n",
    "    :param classes_count: {int} Nombre de classes dans le dataset\n",
    "    :return: {list(np.array()[]} Liste de classes_count matrices de notes\n",
    "    \"\"\"\n",
    "    X = [[] for i in range(classes_count)]\n",
    "\n",
    "    for i in range(len(y)):\n",
    "        student_class = y[i]\n",
    "        X[student_class].append(list(S[i]))\n",
    "\n",
    "    return [np.array(matrix) for matrix in X]"
   ]
  },
  {
   "cell_type": "code",
   "execution_count": 74,
   "metadata": {},
   "outputs": [],
   "source": [
    "def generate_dataset(students_count, subjects_count, classes_count):\n",
    "    \"\"\"\n",
    "    Crée un dataset de notes d'étudiant et de leur classe attribuée\n",
    "    :param students_count: {int} Nombre d'étudiants\n",
    "    :param subjects_count: {int} Nombre de matières\n",
    "    :param classes_count:  {int} Nombre de classes (ex: 2 pour {Accepté, Refusé})\n",
    "    :return: {list(np.array()[]} Liste de classes_count matrices de notes\n",
    "    \"\"\"\n",
    "\n",
    "    assert students_count > classes_count\n",
    "    #On génère les coefficients des différentes matières, dont la somme vaut 1\n",
    "    w_ects = np.random.randint(0, 30, subjects_count)\n",
    "    w = w_ects / w_ects.sum()\n",
    "    print(\"\\nLes coeffs sont = \", w)\n",
    "\n",
    "    #Les frontières entre chaque classe (si 2 classes A et R, seulement 1 frontière)\n",
    "    frontiers_list = np.zeros((subjects_count, classes_count - 1))\n",
    "    for i in range(subjects_count):\n",
    "        frontiers = np.sort(random.sample(list(range(1, 21)), classes_count - 1))\n",
    "        frontiers_list[i,] = frontiers\n",
    "    print(\"\\nLes frontières sont = \", frontiers_list)\n",
    "\n",
    "    #La somme des coeffs minimales à avoir pour être dans une classe donnée\n",
    "    lambdou = random.uniform(0.5, 1)\n",
    "    print(\"\\nlambda = \", lambdou)\n",
    "\n",
    "    y = []\n",
    "    S = []\n",
    "    while len(set(y)) != classes_count:\n",
    "        y = []\n",
    "        #On génère les notes des élèves (1 ligne par élève)\n",
    "        S = np.random.randint(0, 21, (students_count, subjects_count))\n",
    "        print(\"\\nLes notes des élèves :\")\n",
    "        print(S)\n",
    "\n",
    "        #On regarde à quelle classe est associé chaque élève en fonction de ses notes\n",
    "\n",
    "        for student in S:\n",
    "            student_class = check_class(student, w, frontiers_list, lambdou)\n",
    "            y.append(student_class)\n",
    "\n",
    "    print(\"\\nLes classes des élèves :\")\n",
    "    print(y)\n",
    "\n",
    "    #On veut retourner une matrice par classe \n",
    "    #Si 2 classes A et R : A contient les notes des élèves qui sont admis et R les notes des élèves refusés\n",
    "    X = convert_dataset(S, y, classes_count)\n",
    "\n",
    "    return X\n"
   ]
  },
  {
   "cell_type": "code",
   "execution_count": 75,
   "metadata": {},
   "outputs": [
    {
     "name": "stdout",
     "output_type": "stream",
     "text": [
      "\n",
      "Les coeffs sont =  [0.49122807 0.31578947 0.         0.19298246]\n",
      "\n",
      "Les frontières sont =  [[ 1.  3.]\n",
      " [ 1.  6.]\n",
      " [12. 20.]\n",
      " [ 3.  8.]]\n",
      "\n",
      "lambda =  0.6665411771241101\n",
      "\n",
      "Les notes des élèves :\n",
      "[[ 2  4 19  3]\n",
      " [ 1  4  9 14]\n",
      " [14 17  2  1]\n",
      " [ 1  7 20  5]\n",
      " [19 15  1  6]\n",
      " [15 11 16 10]\n",
      " [16  3 14 13]\n",
      " [20 18 15  5]\n",
      " [16  3 15 20]\n",
      " [10 19 18 15]]\n",
      "\n",
      "Les notes des élèves :\n",
      "[[ 3  9 15  5]\n",
      " [10 13 20 11]\n",
      " [14 10 11 17]\n",
      " [13  6 19 16]\n",
      " [ 2 13  6 11]\n",
      " [18  7  6 17]\n",
      " [15  3  9 18]\n",
      " [ 4  4  6 13]\n",
      " [ 4  9  4  9]\n",
      " [ 5  5  9 14]]\n",
      "\n",
      "Les notes des élèves :\n",
      "[[ 4 10 10  6]\n",
      " [20  3 20 13]\n",
      " [ 6  0 14 16]\n",
      " [18  2  1 11]\n",
      " [10 13  3 13]\n",
      " [ 2 11 16  1]\n",
      " [16  5 11 18]\n",
      " [ 9 17 15 20]\n",
      " [10  5 17  2]\n",
      " [ 9 20 13 19]]\n",
      "\n",
      "Les notes des élèves :\n",
      "[[18 11 19 20]\n",
      " [10 19 18 15]\n",
      " [ 8  0 18 19]\n",
      " [11  4  7  8]\n",
      " [19 20  2 16]\n",
      " [ 8 10 19 11]\n",
      " [ 5  5  1 16]\n",
      " [ 7 16 14  4]\n",
      " [ 2 15  7  9]\n",
      " [ 4 20  5 12]]\n",
      "\n",
      "Les notes des élèves :\n",
      "[[ 5 19 20 17]\n",
      " [10  6  0  3]\n",
      " [ 0 12  4  9]\n",
      " [ 6 10 19 16]\n",
      " [ 8  5 11 11]\n",
      " [19 15 14  5]\n",
      " [ 7 17 17 16]\n",
      " [13  5 19 11]\n",
      " [20  0  3 16]\n",
      " [ 0  1  2  1]]\n",
      "\n",
      "Les notes des élèves :\n",
      "[[11  6  1 12]\n",
      " [17  1  7 17]\n",
      " [ 8 20 20 11]\n",
      " [ 2 17  0 12]\n",
      " [ 0 17  0  2]\n",
      " [ 4 11  1 10]\n",
      " [16 20 11  9]\n",
      " [17  3  5  7]\n",
      " [ 0  7 19  1]\n",
      " [ 7 14 16  0]]\n",
      "\n",
      "Les classes des élèves :\n",
      "[2, 2, 2, 1, 0, 2, 2, 1, 0, 2]\n"
     ]
    }
   ],
   "source": [
    "X = generate_dataset(10, 4, 3)"
   ]
  },
  {
   "cell_type": "code",
   "execution_count": 76,
   "metadata": {},
   "outputs": [],
   "source": [
    "def solve(X, students_count, subjects_count, classes_count, verbose=0):\n",
    "    \"\"\"\n",
    "    :param X: {list(np.array()[]} Liste de classes_count matrices de notes\n",
    "    :param students_count: {int} Nombre d'étudiants\n",
    "    :param subjects_count: {int} Nombre de matières\n",
    "    :param classes_count:  {int} Nombre de classes (ex: 2 pour {Accepté, Refusé})\n",
    "    :param verbose:\n",
    "    :return:\n",
    "    \"\"\"\n",
    "    R, *L, A = X\n",
    "\n",
    "    # Instanciation du modèle\n",
    "    m = Model(\"PL modeling\")\n",
    "\n",
    "    #------------------VARIABLES------------------\n",
    "\n",
    "    # Vecteur des coefficients des différentes matières\n",
    "    w = m.addMVar(shape=subjects_count, lb=0, ub=1, name=\"w\")\n",
    "\n",
    "    c_accepted = m.addMVar(shape=(len(A), subjects_count), lb=0, ub=1, name=\"c_accepted\")\n",
    "    c_refused = m.addMVar(shape=(len(R), subjects_count), lb=0, ub=1, name=\"c_refused\")\n",
    "\n",
    "    delta_accepted = m.addMVar(shape=(students_count, subjects_count), vtype=GRB.INTEGER, lb=0, ub=1,\n",
    "                               name=\"delta_accepted\")\n",
    "    delta_refused = m.addMVar(shape=(students_count, subjects_count), vtype=GRB.INTEGER, lb=0, ub=1, name=\"delta_refused\")\n",
    "\n",
    "    sigma_accepted = m.addMVar(shape=len(A), name=\"x\", vtype=GRB.CONTINUOUS)\n",
    "    sigma_refused = m.addMVar(shape=len(R), name=\"y\", vtype=GRB.CONTINUOUS)\n",
    "\n",
    "    lambd = m.addVar(name=\"lambda\", lb=0.5, ub=1)\n",
    "\n",
    "    b = m.addMVar(shape=subjects_count, name=\"b\", lb=0, ub=20)\n",
    "\n",
    "    alpha = m.addVar(name=\"alpha\")\n",
    "\n",
    "    m.update()\n",
    "\n",
    "    epsilon = 0.01\n",
    "\n",
    "    M = 150\n",
    "    \n",
    "    \n",
    "    #------------------CONTRAINTES------------------\n",
    "\n",
    "    # Validation constraint with sigma\n",
    "    for index, student_point in enumerate(c_accepted):\n",
    "        m.addConstr(sum(student_point) - sigma_accepted[index] + epsilon == lambd)\n",
    "\n",
    "    # Refusal constraint with sigma\n",
    "    for index, student_point in enumerate(c_refused):\n",
    "        m.addConstr(sum(student_point) == lambd - sigma_refused[index])\n",
    "\n",
    "    # Alpha is inferior than all sigmas\n",
    "    for offset in (*sigma_accepted, *sigma_refused):\n",
    "        m.addConstr(alpha <= offset)\n",
    "\n",
    "    # # cij is inferior than wi\n",
    "    # for matrix in (c_accepted ,c_refused):\n",
    "    #     for student in matrix:\n",
    "    #         for index, point in enumerate(student):\n",
    "    #             m.addConstr(point <= w[index])\n",
    "\n",
    "    accepted_tuple = (c_accepted, delta_accepted, A)\n",
    "    refused_tuple = (c_refused, delta_refused, R)\n",
    "\n",
    "    for c, delta, grades in (accepted_tuple, refused_tuple):\n",
    "        for i in range(c.shape[0]):\n",
    "            for j in range(c.shape[1]):\n",
    "                m.addConstr(c[i, j] <= w[j])\n",
    "                m.addConstr(c[i, j] <= delta[i, j])\n",
    "                m.addConstr(c[i, j] >= delta[i, j] - 1 + w[j])\n",
    "                m.addConstr(M * delta[i, j] + epsilon >= grades[i, j] - b[j])\n",
    "                m.addConstr(M * (delta[i, j] - 1) <= grades[i, j] - b[j])\n",
    "\n",
    "    m.addConstr(sum(w) == 1)\n",
    "\n",
    "    m.update()\n",
    "\n",
    "    if verbose == 0:\n",
    "        m.params.outputflag = 0\n",
    "\n",
    "    #Fonction objectif\n",
    "    m.setObjective(alpha, GRB.MAXIMIZE)\n",
    "    m.update()\n",
    "\n",
    "    m.optimize()\n",
    "    print(\"====== Model solved =====\")\n",
    "    print(f\"alpha = {alpha.X}\")\n",
    "    print(f\"lambda = {lambd.X}\")\n",
    "    print(f\"b = {b.X}\")\n",
    "\n",
    "    print(\"\\nLes coefficients de notre solution optimale sont :\")\n",
    "    print(f\"__________________\")\n",
    "\n",
    "    print(f\"| Matière  |coeff|\")\n",
    "\n",
    "    for index, coef in enumerate(w.X):\n",
    "        print(f\"|matière {index + 1} | {coef.round(2)} |\")\n",
    "    print(f\"__________________\")\n",
    "\n",
    "    return A, R, w.X, lambd.X, b.X\n"
   ]
  },
  {
   "cell_type": "markdown",
   "metadata": {},
   "source": [
    "### Exemple 1 : \n",
    "\n",
    "20 élèves, 5 matières et 2 classes (Accepté ou Refusé) "
   ]
  },
  {
   "cell_type": "code",
   "execution_count": 77,
   "metadata": {
    "pycharm": {
     "name": "#%%\n"
    }
   },
   "outputs": [
    {
     "name": "stdout",
     "output_type": "stream",
     "text": [
      "\n",
      "Les coeffs sont =  [0.10769231 0.2        0.29230769 0.03076923 0.36923077]\n",
      "\n",
      "Les frontières sont =  [[11.]\n",
      " [15.]\n",
      " [ 7.]\n",
      " [ 9.]\n",
      " [ 5.]]\n",
      "\n",
      "lambda =  0.6848556873743621\n",
      "\n",
      "Les notes des élèves :\n",
      "[[17  6  4 20 12]\n",
      " [ 4 10  0 20 19]\n",
      " [ 5 18 12 19 16]\n",
      " [ 8 20  0 10 18]\n",
      " [20 16 14  2  0]\n",
      " [19  2  3 19 11]\n",
      " [ 2 11  3  1 12]\n",
      " [15  3  2  7  0]\n",
      " [ 6 11  4 14 14]\n",
      " [16  0  4 15  9]\n",
      " [17  9 14 10  5]\n",
      " [14 15 13 12  8]\n",
      " [ 4 16  0 12  1]\n",
      " [17  1  4 17  0]\n",
      " [10 16  3  3  1]\n",
      " [16 10 18 14  6]\n",
      " [16  6  2 13  4]\n",
      " [ 9 20 15 17 14]\n",
      " [ 7  2 13 14 18]\n",
      " [ 3 10  4 14  1]]\n",
      "\n",
      "Les classes des élèves :\n",
      "[0, 0, 1, 0, 0, 0, 0, 0, 0, 0, 1, 1, 0, 0, 0, 1, 0, 1, 1, 0]\n"
     ]
    }
   ],
   "source": [
    "X = generate_dataset(20, 5, 2)"
   ]
  },
  {
   "cell_type": "code",
   "execution_count": 78,
   "metadata": {},
   "outputs": [
    {
     "name": "stdout",
     "output_type": "stream",
     "text": [
      "====== Model solved =====\n",
      "alpha = 0.255\n",
      "lambda = 0.755\n",
      "b = [ 2.    1.   12.    6.99  0.99]\n",
      "\n",
      "Les coefficients de notre solution optimale sont :\n",
      "__________________\n",
      "| Matière  |coeff|\n",
      "|matière 1 | 0.0 |\n",
      "|matière 2 | 0.0 |\n",
      "|matière 3 | 0.5 |\n",
      "|matière 4 | 0.5 |\n",
      "|matière 5 | 0.0 |\n",
      "__________________\n"
     ]
    }
   ],
   "source": [
    "accepted, refused, weigths, lambd, b = solve(X, 20, 5, 2, verbose=0)"
   ]
  },
  {
   "cell_type": "code",
   "execution_count": 79,
   "metadata": {},
   "outputs": [
    {
     "name": "stdout",
     "output_type": "stream",
     "text": [
      "[ True  True  True  True  True  True]\n"
     ]
    }
   ],
   "source": [
    "print((accepted >= b) @ weigths.T >= lambd)"
   ]
  },
  {
   "cell_type": "code",
   "execution_count": 80,
   "metadata": {
    "pycharm": {
     "name": "#%%\n"
    }
   },
   "outputs": [
    {
     "name": "stdout",
     "output_type": "stream",
     "text": [
      "[False False False False False False False False False False False False\n",
      " False False]\n"
     ]
    }
   ],
   "source": [
    "print((refused >= b) @ weigths.T >= lambd)"
   ]
  },
  {
   "cell_type": "markdown",
   "metadata": {
    "pycharm": {
     "name": "#%% md\n"
    }
   },
   "source": [
    "**Conclusion :**\n",
    "\n",
    "Avec 2 classes (Accepté, Refusé), notre MRSort fonctionne et nous renvoie une solution faisable pour notre dataset."
   ]
  }
 ],
 "metadata": {
  "kernelspec": {
   "display_name": "Python 3 (ipykernel)",
   "language": "python",
   "name": "python3"
  },
  "language_info": {
   "codemirror_mode": {
    "name": "ipython",
    "version": 3
   },
   "file_extension": ".py",
   "mimetype": "text/x-python",
   "name": "python",
   "nbconvert_exporter": "python",
   "pygments_lexer": "ipython3",
   "version": "3.7.11"
  }
 },
 "nbformat": 4,
 "nbformat_minor": 4
}